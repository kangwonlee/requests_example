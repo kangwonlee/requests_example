{
  "nbformat": 4,
  "nbformat_minor": 0,
  "metadata": {
    "colab": {
      "private_outputs": true,
      "provenance": [],
      "collapsed_sections": [],
      "authorship_tag": "ABX9TyP/9bOvHYl5yTNZeOk1WEVr",
      "include_colab_link": true
    },
    "kernelspec": {
      "name": "python3",
      "display_name": "Python 3"
    },
    "language_info": {
      "name": "python"
    }
  },
  "cells": [
    {
      "cell_type": "markdown",
      "metadata": {
        "id": "view-in-github",
        "colab_type": "text"
      },
      "source": [
        "<a href=\"https://colab.research.google.com/github/kangwonlee/requests_example/blob/main/requests_example.ipynb\" target=\"_parent\"><img src=\"https://colab.research.google.com/assets/colab-badge.svg\" alt=\"Open In Colab\"/></a>"
      ]
    },
    {
      "cell_type": "markdown",
      "source": [
        "HTTP : hyper text transfer protocol\n",
        "\n"
      ],
      "metadata": {
        "id": "nI_XGkrgCuKP"
      }
    },
    {
      "cell_type": "code",
      "execution_count": null,
      "metadata": {
        "id": "cN_atBDdCcdr"
      },
      "outputs": [],
      "source": [
        "import requests\n",
        "\n",
        "url = \"https://comic.naver.com/webtoon/weekday\"\n",
        "r = requests.get(url)\n",
        "\n"
      ]
    },
    {
      "cell_type": "code",
      "source": [
        "r.ok\n",
        "\n"
      ],
      "metadata": {
        "id": "xtgf1vIGDK62"
      },
      "execution_count": null,
      "outputs": []
    },
    {
      "cell_type": "markdown",
      "source": [
        "bs4 : Beautiful Soup 4"
      ],
      "metadata": {
        "id": "5ili6iz4Dre4"
      }
    },
    {
      "cell_type": "code",
      "source": [
        "import bs4\n",
        "soup = bs4.BeautifulSoup(r.text)\n",
        "\n"
      ],
      "metadata": {
        "id": "g20vZCYlDW5u"
      },
      "execution_count": null,
      "outputs": []
    },
    {
      "cell_type": "markdown",
      "source": [
        "Get filename from url<br>URL 웹주소로 부터 파일 이름 찾기\n",
        "\n"
      ],
      "metadata": {
        "id": "piRrOysDhowX"
      }
    },
    {
      "cell_type": "code",
      "source": [
        "import urllib.parse as up\n",
        "\n",
        "\n",
        "def get_filename_from_url(url):\n",
        "  parsed = up.urlparse(url)\n",
        "  last_item_of_path = parsed.path.split('/')[-1]\n",
        "  return last_item_of_path\n",
        "\n"
      ],
      "metadata": {
        "id": "IRiami29hMTQ"
      },
      "execution_count": null,
      "outputs": []
    },
    {
      "cell_type": "markdown",
      "source": [
        "Download a file using `requests`<br>\n",
        "`requests` 로 파일 받기<br>\n",
        "참고문헌 :\n",
        "* https://stackoverflow.com/a/53101953"
      ],
      "metadata": {
        "id": "Xu34u4lHJaRt"
      }
    },
    {
      "cell_type": "code",
      "source": [
        "def retrieve(url, fname=None):\n",
        "  if fname is None:\n",
        "    fname = get_filename_from_url(url)\n",
        "    r = requests.get(url, stream=True)\n",
        "\n",
        "  if r.ok:\n",
        "    with open(fname, 'wb') as fo:\n",
        "      for chunk in r.iter_content(chunk_size=1024):\n",
        "        if chunk:\n",
        "          fo.write(chunk)\n",
        "\n"
      ],
      "metadata": {
        "id": "QTQ6r0YHhyDg"
      },
      "execution_count": null,
      "outputs": []
    },
    {
      "cell_type": "code",
      "source": [
        "for img_tag in soup.find_all('img'):\n",
        "  img_url = img_tag.get('src')\n",
        "\n",
        "  if img_url.endswith(\".jpg\"):\n",
        "    print(img_url)\n",
        "    retrieve(img_url)\n",
        "\n"
      ],
      "metadata": {
        "id": "_agAC2_HED8e"
      },
      "execution_count": null,
      "outputs": []
    },
    {
      "cell_type": "markdown",
      "source": [
        "`jpg` 파일을 `download_this.zip` 파일로 압축<br>\n",
        "참고문헌 : <br>\n",
        "* https://stackoverflow.com/questions/71251353/how-to-create-a-zip-archive-containing-multiple-files-and-subfolders-in-memory\n"
      ],
      "metadata": {
        "id": "ickpkW_GR7Ys"
      }
    },
    {
      "cell_type": "code",
      "source": [
        "import os\n",
        "import zipfile\n",
        "# https://stackoverflow.com/questions/71251353/how-to-create-a-zip-archive-containing-multiple-files-and-subfolders-in-memory\n",
        "\n",
        "with open(\"download_this.zip\", 'wb') as fo:\n",
        "  with zipfile.ZipFile(fo, 'w') as zf:\n",
        "    for fname in os.listdir():\n",
        "      if fname.endswith('.jpg'):\n",
        "        zf.write(fname, fname)\n",
        "        os.remove(fname)\n",
        "\n",
        "  "
      ],
      "metadata": {
        "id": "MhUJN--PNdpk"
      },
      "execution_count": null,
      "outputs": []
    },
    {
      "cell_type": "code",
      "source": [],
      "metadata": {
        "id": "UTtN_zSEOr-c"
      },
      "execution_count": null,
      "outputs": []
    }
  ]
}